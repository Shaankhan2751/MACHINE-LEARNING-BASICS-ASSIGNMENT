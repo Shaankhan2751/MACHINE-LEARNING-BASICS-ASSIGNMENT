{
 "cells": [
  {
   "cell_type": "markdown",
   "id": "5793459b",
   "metadata": {},
   "source": [
    "# Machine Learning Basics Assignment\n",
    "\n",
    "### What is a parameter?\n",
    "\n",
    "A parameter is a variable within a model that is acquired through training, like weights and biases within a neural network."
   ]
  },
  {
   "cell_type": "markdown",
   "id": "40ab2bf8",
   "metadata": {},
   "source": [
    "### What is correlation?\n",
    "\n",
    "Correlation assesses the strength and direction of the linear relationship between two variables, generally between -1 and 1."
   ]
  },
  {
   "cell_type": "markdown",
   "id": "e58958ab",
   "metadata": {},
   "source": [
    "### What does negative correlation mean?\n",
    "\n",
    "Negative correlation implies that when one variable rises, the other falls, showing an inverse relationship (i.e., -0.7 correlation)."
   ]
  },
  {
   "cell_type": "markdown",
   "id": "2113fa4f",
   "metadata": {},
   "source": [
    "### Define Machine Learning. What are the key elements in Machine Learning?\n",
    "\n",
    "Machine Learning (ML) refers to an approach where computers learn patterns in data in order to make predictions or decisions. Key elements: data, model, loss function, and optimization algorithm."
   ]
  },
  {
   "cell_type": "markdown",
   "id": "e6802ca9",
   "metadata": {},
   "source": [
    "### How can loss value assist in establishing if the model is good or bad?\n",
    "\n",
    "The model's prediction approaches the real values as it has a lower loss value, meaning it performs better. The model has poor performance when loss is high."
   ]
  },
  {
   "cell_type": "markdown",
   "id": "8b15a6d2",
   "metadata": {},
   "source": [
    "### What are categorical and continuous variables?\n",
    "\n",
    "Continuous variables: numerical values that can take any value (e.g., height). Categorical variables: discrete categories (e.g., color)."
   ]
  },
  {
   "cell_type": "markdown",
   "id": "7ccc0f7b",
   "metadata": {},
   "source": [
    "### How do we treat categorical variables in Machine Learning? What are the typical methods?\n",
    "\n",
    "We treat them by encoding: typical methods include one-hot encoding (produces binary columns for each category) and label encoding (gives integers to categories)."
   ]
  },
  {
   "cell_type": "markdown",
   "id": "a30f083a",
   "metadata": {},
   "source": [
    "### What do you refer to when you talk about training and testing a dataset?\n",
    "\n",
    "Training a dataset is utilized to fit the model (learn patterns), whereas testing a dataset tests the model's performance on unseen data."
   ]
  },
  {
   "cell_type": "markdown",
   "id": "6921e801",
   "metadata": {},
   "source": [
    "### What is sklearn.preprocessing?\n",
    "\n",
    "`sklearn.preprocessing` is a Scikit-learn (Python) module that offers tools for data preprocessing, such as scaling, encoding, and normalization."
   ]
  },
  {
   "cell_type": "markdown",
   "id": "23544373",
   "metadata": {},
   "source": [
    "### What is a Test set?\n",
    "\n",
    "A test set is a smaller portion of data, independent of the training set, to check the performance of the model on new data."
   ]
  },
  {
   "cell_type": "markdown",
   "id": "f92e2211",
   "metadata": {},
   "source": [
    "### How to split data for fitting the model (training and testing) in Python?\n",
    "\n",
    "```python\n",
    "from sklearn.model_selection import train_test_split\n",
    "X_train, X_test, y_train, y_test = train_test_split(X, y, test_size=0.2, random_state=42)\n",
    "```"
   ]
  },
  {
   "cell_type": "markdown",
   "id": "dc7761bb",
   "metadata": {},
   "source": [
    "### How do you solve a Machine Learning problem?\n",
    "\n",
    "Steps: 1) Frame the problem, 2) Data collection and exploration (EDA), 3) Data preprocessing (handling missing values, variable encoding), 4) Split data into training and test sets, 5) Model selection, 6) Train the model, 7) Test on the test set, 8) Hyperparameter tuning, 9) Deploy if acceptable."
   ]
  },
  {
   "cell_type": "markdown",
   "id": "174538e9",
   "metadata": {},
   "source": [
    "### Why must we do EDA prior to fitting the model on the data?\n",
    "\n",
    "Exploratory Data Analysis (EDA) assists in comprehending the data, discovering patterns, finding outliers, managing missing values, and pre-processing features, which yields improved model performance."
   ]
  },
  {
   "cell_type": "markdown",
   "id": "2e7b08dd",
   "metadata": {},
   "source": [
    "### What is correlation?\n",
    "\n",
    "Correlation gauges the linear relationship between two variables from -1 (perfect negative) to 1 (perfect positive). 0 indicates no linear relationship."
   ]
  },
  {
   "cell_type": "markdown",
   "id": "816815a3",
   "metadata": {},
   "source": [
    "### What is negative correlation?\n",
    "\n",
    "Negative correlation indicates that with an increase in one variable, the other decreases (e.g., more study hours could negatively correlate with mistakes, -0.6)."
   ]
  },
  {
   "cell_type": "markdown",
   "id": "0714558d",
   "metadata": {},
   "source": [
    "### How can you calculate correlation between variables in Python?\n",
    "\n",
    "```python\n",
    "import pandas as pd\n",
    "data = pd.DataFrame({'A': [1, 2, 3], 'B': [4, 5, 6]})\n",
    "correlation = data.corr()  # Returns a correlation matrix\n",
    "```"
   ]
  },
  {
   "cell_type": "markdown",
   "id": "fe66ffd7",
   "metadata": {},
   "source": [
    "### What is causation? Define difference between correlation and causation using an example.\n",
    "\n",
    "Causation refers to one variable influencing another directly. Correlation reflects a relationship, not causation.\n",
    "Example: Sales of ice cream and drowning rates correlate (both increase during summer), but ice cream does not cause drowning—summer heat does."
   ]
  },
  {
   "cell_type": "markdown",
   "id": "138248d7",
   "metadata": {},
   "source": [
    "### What is an Optimizer? What are various types of optimizers? Define each using an example.\n",
    "\n",
    "An optimizer is a parameter that reduces the loss function. There are several types:\n",
    "- **Gradient Descent (GD)**: Scales parameters by the gradient of the loss (e.g., `optimizer = 'SGD'`).\n",
    "- **Adam**: Adaptive learning rate, combines momentum and RMSProp (e.g., `optimizer = 'adam'`).\n",
    "- **RMSProp**: Adaptively scales learning rate (e.g., in deep learning for faster convergence)."
   ]
  },
  {
   "cell_type": "markdown",
   "id": "e22d0cdb",
   "metadata": {},
   "source": [
    "### What is sklearn.linear_model?\n",
    "\n",
    "`sklearn.linear_model` is a Scikit-learn module for linear models such as Linear Regression, Logistic Regression, etc.\n",
    "\n",
    "```python\n",
    "from sklearn.linear_model import LinearRegression\n",
    "model = LinearRegression()\n",
    "```"
   ]
  },
  {
   "cell_type": "markdown",
   "id": "739abdd7",
   "metadata": {},
   "source": [
    "### What does model.fit() do? What arguments must be given?\n",
    "\n",
    "`model.fit(X, y)` trains the model on input features `X` and target `y`.\n",
    "\n",
    "```python\n",
    "model.fit(X_train, y_train)\n",
    "```"
   ]
  },
  {
   "cell_type": "markdown",
   "id": "2f8e5b60",
   "metadata": {},
   "source": [
    "### What does model.predict() do? What arguments must be given?\n",
    "\n",
    "`model.predict(X)` produces predictions from input features `X`.\n",
    "\n",
    "```python\n",
    "predictions = model.predict(X_test)\n",
    "```"
   ]
  },
  {
   "cell_type": "markdown",
   "id": "63d987ed",
   "metadata": {},
   "source": [
    "### What are continuous and categorical variables?\n",
    "\n",
    "Continuous variables are numeric and can take any value (e.g., age). Categorical variables are discrete categories (e.g., gender)."
   ]
  },
  {
   "cell_type": "markdown",
   "id": "7b732584",
   "metadata": {},
   "source": [
    "### What is feature scaling? How does it help in Machine Learning?\n",
    "\n",
    "Feature scaling normalizes the range of features (e.g., to 0-1) so they all have an equal contribution to the model. It makes gradient-based algorithms converge more quickly and keeps features with wider ranges from overwhelming."
   ]
  },
  {
   "cell_type": "markdown",
   "id": "719e63cb",
   "metadata": {},
   "source": [
    "### How do we scale in Python?\n",
    "\n",
    "```python\n",
    "from sklearn.preprocessing import StandardScaler\n",
    "scaler = StandardScaler()\n",
    "X_scaled = scaler.fit_transform(X)\n",
    "```"
   ]
  },
  {
   "cell_type": "markdown",
   "id": "3d441fff",
   "metadata": {},
   "source": [
    "### What is sklearn.preprocessing?\n",
    "\n",
    "`sklearn.preprocessing` is a Scikit-learn module for preprocessing operations such as scaling, encoding, and normalizing."
   ]
  },
  {
   "cell_type": "markdown",
   "id": "6c51a279",
   "metadata": {},
   "source": [
    "### How do we split data for model fitting (training and testing) in Python?\n",
    "\n",
    "```python\n",
    "from sklearn.model_selection import train_test_split\n",
    "X_train, X_test, y_train, y_test = train_test_split(X, y, test_size=0.2, random_state=42)\n",
    "```"
   ]
  },
  {
   "cell_type": "markdown",
   "id": "5590b4ae",
   "metadata": {},
   "source": [
    "### Explain data encoding?\n",
    "\n",
    "Data encoding transforms categorical variables to numeric form for ML models. Example: One-hot encoding converts \"color\" (red, blue) into binary columns: red=[1,0], blue=[0,1]."
   ]
  }
 ],
 "metadata": {
  "language_info": {
   "name": "python"
  }
 },
 "nbformat": 4,
 "nbformat_minor": 5
}
